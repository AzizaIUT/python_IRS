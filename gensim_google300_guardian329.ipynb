{
 "cells": [
  {
   "cell_type": "code",
   "execution_count": 1,
   "metadata": {},
   "outputs": [],
   "source": [
    "from gensim.models import KeyedVectors\n",
    "import numpy as np\n",
    "from sklearn.metrics.pairwise import cosine_similarity\n",
    "import pandas as pd"
   ]
  },
  {
   "cell_type": "code",
   "execution_count": 2,
   "metadata": {},
   "outputs": [],
   "source": [
    "from gensim.test.utils import common_texts\n",
    "from gensim.models import Word2Vec\n",
    "from gensim.models import Word2Vec\n",
    "from gensim.models import KeyedVectors"
   ]
  },
  {
   "cell_type": "code",
   "execution_count": 3,
   "metadata": {},
   "outputs": [],
   "source": [
    "import gensim.downloader as api\n",
    "\n",
    "# word_vectors = api.load(\"word2vec-google-news-300\")  # load pre-trained word-vectors from gensim-data"
   ]
  },
  {
   "cell_type": "code",
   "execution_count": 4,
   "metadata": {},
   "outputs": [],
   "source": [
    "# word_vectors.save(\"google300.model\")"
   ]
  },
  {
   "cell_type": "code",
   "execution_count": 5,
   "metadata": {},
   "outputs": [],
   "source": [
    "import nltk\n",
    "from nltk.stem import PorterStemmer\n",
    "from nltk.stem import WordNetLemmatizer"
   ]
  },
  {
   "cell_type": "code",
   "execution_count": 6,
   "metadata": {},
   "outputs": [],
   "source": [
    "ps = PorterStemmer()"
   ]
  },
  {
   "cell_type": "code",
   "execution_count": 7,
   "metadata": {},
   "outputs": [],
   "source": [
    "# nltk.download('wordnet')"
   ]
  },
  {
   "cell_type": "markdown",
   "metadata": {},
   "source": [
    "# Load model"
   ]
  },
  {
   "cell_type": "code",
   "execution_count": 8,
   "metadata": {},
   "outputs": [],
   "source": [
    "word_vectors = KeyedVectors.load(\"google300.model\")"
   ]
  },
  {
   "cell_type": "code",
   "execution_count": 9,
   "metadata": {},
   "outputs": [
    {
     "name": "stderr",
     "output_type": "stream",
     "text": [
      "/home/test-user/.local/lib/python3.7/site-packages/ipykernel_launcher.py:2: DeprecationWarning: Call to deprecated `wv` (Attribute will be removed in 4.0.0, use self instead).\n",
      "  \n"
     ]
    },
    {
     "data": {
      "text/plain": [
       "(3000000, 300)"
      ]
     },
     "execution_count": 9,
     "metadata": {},
     "output_type": "execute_result"
    }
   ],
   "source": [
    "# Shape of  word vectors\n",
    "word_vectors.wv.vectors.shape"
   ]
  },
  {
   "cell_type": "markdown",
   "metadata": {},
   "source": [
    "# Functions"
   ]
  },
  {
   "cell_type": "code",
   "execution_count": 10,
   "metadata": {},
   "outputs": [],
   "source": [
    "def get_mean_vector(word2vec_model, doc):\n",
    "    # remove out-of-vocabulary words\n",
    "    words =  [ps.stem(w) for w in doc.lower().split()]\n",
    "    words = [word for word in words if word in word2vec_model.vocab]\n",
    "    if len(words) >= 1:\n",
    "        return np.mean(word2vec_model[words], axis=0)\n",
    "    else:\n",
    "        return []\n",
    "\n",
    "\n",
    "\n",
    "def dis(doc1, doc2):\n",
    "    docVec1 = get_mean_vector(word_vectors,doc1)\n",
    "    docVec2 = get_mean_vector(word_vectors,doc2)\n",
    "    return cosine_similarity(docVec1.reshape(1, -1), docVec2.reshape(1, -1))\n",
    "\n",
    "\n",
    "def doc_similarity(doc):\n",
    "    df = data\n",
    "    sim = {}\n",
    "    for i in range(df['text'].shape[0]):\n",
    "        sim[i] = float(dis(doc, df['text'][i]))\n",
    "    return sim\n",
    "\n",
    "        \n",
    "def retrive(top):\n",
    "    text = input()\n",
    "    docSim = doc_similarity(text)\n",
    "    sortSim = sorted(docSim.items(), key=lambda item: item[1], reverse = True)[:top]\n",
    "    df = data\n",
    "    for i in range(top):\n",
    "        print ('doc ID: ' + str(sortSim[i][0]) + '\\n' + 'cosine: ' + str(sortSim[i][1]) +'\\n'+ df['text'][sortSim[i][0]]+'\\n_________________________________________________________________________________\\n\\n')"
   ]
  },
  {
   "cell_type": "markdown",
   "metadata": {},
   "source": [
    "# Retrive"
   ]
  },
  {
   "cell_type": "code",
   "execution_count": 11,
   "metadata": {},
   "outputs": [],
   "source": [
    "data = pd.read_csv('guardian.csv')"
   ]
  },
  {
   "cell_type": "code",
   "execution_count": 16,
   "metadata": {},
   "outputs": [
    {
     "name": "stdout",
     "output_type": "stream",
     "text": [
      "vietnam\n",
      "doc ID: 137\n",
      "cosine: 0.4942963719367981\n",
      "The International Festival of Photojournalism takes place in Perpignan, France, every year. Here, photojournalists uncover stories – from war to ecocide – that the powerful would often rather keep secret • The festival runs from 31 August to 15 September Mee-Lai Stone Tue 27 Aug 2019 07.00 BST\n",
      "\n",
      "\n",
      "Last modified on Tue 27 Aug 2019 10.54 BST Photograph: Anush Babajanyan/VII Photo Agency Photograph: Cyril Abad/Hans Lucas Photograph: Louie Palu/National Geographic Photograph: Lorenzo Tugnoli/The Washington Post/Contrasto-Rea Photograph: Kirsten Luce/National Geographic Photograph: Ed Jones/AFP Photograph: Ed Jones/AFP Photograph: Frédéric Noy Photograph: Frédéric Noy Photograph: Alvaro Ybarra Zavala Photograph: Éric Hadj/Paris Match Photograph: Valerio Bispuri Photograph: Valerio Bispuri Photograph: Lynsey Addario/National Geographic/Getty Images Photograph: Ivor Prickett/The New York Times Photograph: Guillermo Arias/AFP\n",
      "_________________________________________________________________________________\n",
      "\n",
      "\n",
      "doc ID: 33\n",
      "cosine: 0.4854971170425415\n",
      "The UK prime minister met world leaders including Donald Trump and the EU’s Donald Tusk in Biarritz • Buy a copy of this cartoon in our print shop Ben Jennings Sun 25 Aug 2019 19.03 BST\n",
      "\n",
      "\n",
      "Last modified on Tue 27 Aug 2019 11.33 BST\n",
      "_________________________________________________________________________________\n",
      "\n",
      "\n",
      "doc ID: 270\n",
      "cosine: 0.47360625863075256\n",
      "JD Wetherspoon CEO Tim Martin has been touring his pubs to promote his vision for a no-deal Brexit. But why is he so opposed to the EU? Should the elites be leading the debate? And what do his customers think? Owen Jones joins the tour in Southend-on-Sea Owen Jones, \n",
      "Shay Notelovitz and \n",
      "Maeve Shearlaw, Source: Guardian Fri 25 Jan 2019 09.29 GMT\n",
      "\n",
      "\n",
      "Last modified on Fri 25 Jan 2019 09.59 GMT\n",
      "_________________________________________________________________________________\n",
      "\n",
      "\n",
      "doc ID: 111\n",
      "cosine: 0.4674626290798187\n",
      "Our cartoonist looks at the uncertain future of a number of Football League clubs, the heartbeats of communities Tue 27 Aug 2019 11.30 BST\n",
      "\n",
      "\n",
      "Last modified on Wed 28 Aug 2019 02.08 BST David Squires Tue 27 Aug 2019 11.30 BST\n",
      "\n",
      "\n",
      "Last modified on Wed 28 Aug 2019 02.08 BST David Squires Tue 27 Aug 2019 11.30 BST\n",
      "\n",
      "\n",
      "Last modified on Wed 28 Aug 2019 02.08 BST\n",
      "_________________________________________________________________________________\n",
      "\n",
      "\n",
      "doc ID: 92\n",
      "cosine: 0.45794275403022766\n",
      "Fires are raging across the world’s largest tropical rainforest as farmers, land-grabbers and loggers torch trees and clear land for crops or grazing. According to Brazil’s National Institute of Space Research, the number of fires detected by satellite in the Amazon region this month is the highest since 2010. Bowing to international pressure and a global outcry over the destruction of a vital resource in the fight against climate change, president Jair Bolsonaro authorised the deployment of Brazil’s armed forces to help combat blazes, with warplane dumping water on burning tracts of Amazon. Critics say the large number of fires this year has been stoked by Bolsonaro’s encouragement of farmers, loggers and ranchers to speed up efforts to strip away forest  Tue 27 Aug 2019 05.11 BST\n",
      "\n",
      "\n",
      "Last modified on Tue 27 Aug 2019 21.07 BST Photograph: Joao Laet/AFP/Getty Images Photograph: Joao Laet/AFP/Getty Images Photograph: Joao Laet/AFP/Getty Images Photograph: Ueslei Marcelino/Reuters Photograph: Joedson Alves/EPA Photograph: Victor Moriyama/Greenpeace Brazil Photograph: Victor Moriyama/Getty Images Photograph: Carl de Souza/AFP/Getty Images Photograph: Brazil Ministry of Defense/AP Photograph: Brazil Ministry of Defense/AP Photograph: Victor Moriyama/AFP/Getty Images Photograph: Eraldo Peres/AP Photograph: Ueslei Marcelino/Reuters Photograph: Carl de Souza/AFP/Getty Images Photograph: Carlos Fabal/AFP/Getty Images Photograph: Ueslei Marcelino/Reuters Photograph: Eraldo Peres/AP Photograph: Ueslei Marcelino/Reuters\n",
      "_________________________________________________________________________________\n",
      "\n",
      "\n"
     ]
    }
   ],
   "source": [
    "retrive(5)"
   ]
  },
  {
   "cell_type": "code",
   "execution_count": null,
   "metadata": {},
   "outputs": [],
   "source": []
  }
 ],
 "metadata": {
  "kernelspec": {
   "display_name": "Python 3",
   "language": "python",
   "name": "python3"
  },
  "language_info": {
   "codemirror_mode": {
    "name": "ipython",
    "version": 3
   },
   "file_extension": ".py",
   "mimetype": "text/x-python",
   "name": "python",
   "nbconvert_exporter": "python",
   "pygments_lexer": "ipython3",
   "version": "3.7.3"
  }
 },
 "nbformat": 4,
 "nbformat_minor": 2
}
